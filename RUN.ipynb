{
 "cells": [
  {
   "cell_type": "code",
   "execution_count": 3,
   "metadata": {
    "ExecuteTime": {
     "end_time": "2022-06-08T14:04:44.252716Z",
     "start_time": "2022-06-08T14:04:43.603144Z"
    },
    "code_folding": [
     0,
     26,
     60,
     76,
     90,
     120
    ]
   },
   "outputs": [],
   "source": [
    "# libraries \n",
    "import numpy as np\n",
    "import pandas as pd\n",
    "import matplotlib.pyplot as plt\n",
    "import random\n",
    "import scipy\n",
    "from scipy.integrate import simps as simps\n",
    "from random import randrange\n",
    "from datetime import date\n",
    "from numpy.random import normal\n",
    "from datetime import datetime\n",
    "import time\n",
    "import multiprocessing\n",
    "from multiprocessing import Pool\n",
    "from functools import partial\n",
    "import itertools\n",
    "from scipy.integrate import quad as integrate\n",
    "from scipy.integrate import simps as simps\n",
    "from scipy import interpolate as interp\n",
    "from scipy.stats import norm\n",
    "from itertools import product\n",
    "from scipy.interpolate import interp1d\n",
    "from tqdm import tqdm\n",
    "\n",
    "\n",
    "# funs \n",
    "def EulerMaruyama_approx_sol(N, mu, sigma, x0):\n",
    "    \"\"\"\n",
    "    Returns discrete numerical approximation of stochastic process solving an SDE of the form\n",
    "            dX(t) =  b(t)X(t) dt + c(t)dW(t) \n",
    "    by approximating the continous solution X(t) by random variables \n",
    "    X_n = X(t_n) where t_n = n∆t, n = 0,1,2, and ∆t = 1/N\n",
    "\n",
    "    Parameters\n",
    "    ----------\n",
    "    N : int\n",
    "        Discretisation of [0,1] interval. Determines step size ∆t = 1/N\n",
    "    mu : function\n",
    "        Drift of SDE, takes (x, t) as input\n",
    "    sigma : function\n",
    "        Diffusion of SDE, takes (x, t) as input \n",
    "    x0 : float\n",
    "        Starting point of solution\n",
    "\n",
    "    Returns\n",
    "    ----------\n",
    "    X : array(float) np.array of size N\n",
    "    \"\"\" \n",
    "\n",
    "    t = np.linspace(0,1,N)\n",
    "    X = np.zeros(N)\n",
    "    \n",
    "    X[0] = x0\n",
    "    dt = 1/N\n",
    "    \n",
    "    for i in range(N-1):\n",
    "        dX = X[i]*mu(t[i])*dt + sigma(t[i])*normal()*np.sqrt(dt)\n",
    "        X[i+1] = X[i] + dX\n",
    "    return X\n",
    "\n",
    "def generate_sparse_obs__forScores(n, r, dt, mu, sigma, x0, N, sigma_noise ):\n",
    "    N = int(dt**(-1)) \n",
    "    X = []; T = []; Y = []; C = []\n",
    "    for i in (range(n)):\n",
    "        X_i = EulerMaruyama_approx_sol(N = N, mu= mu , sigma=sigma, x0 = x0); X.append(X_i)\n",
    "        T_i = []; Y_i = []\n",
    "        for j in range(r):\n",
    "            random_input = randrange(N)\n",
    "            T_ij = random_input/N\n",
    "            Y_ij = X_i[random_input] + np.random.normal(scale = sigma_noise)\n",
    "            Y_i.append(Y_ij); T_i.append(T_ij)\n",
    "        Y.append(np.array([Y_i[j] for j in np.argsort(T_i)]))  \n",
    "        T.append(np.array([T_i[j] for j in np.argsort(T_i)]))\n",
    "    X = np.array(X); T = np.array(T); Y = np.array(Y)\n",
    "    return T,Y       \n",
    "\n",
    "def univariate_local_linear_smoothing(T,Y,K,h):\n",
    "    r = Y.shape[1]; n  = Y.shape[0]; _nr = n*r\n",
    "    T = T.reshape(-1); Y = Y.reshape(-1)\n",
    "    K_h = lambda t: K(t/h)/h   \n",
    "    cali_T = lambda t0 : np.array( [ ( (T - t0) )**p for p in [0,1] ] ).T\n",
    "    bold_W = lambda t0 : np.diag(np.array([K_h(_t - t0) for _t in T]))\n",
    "    def minimizers(t0):\n",
    "        try:\n",
    "            res =  np.linalg.inv(  cali_T(t0).T @ bold_W(t0) @ cali_T(t0) )  @ cali_T(t0).T @  bold_W(t0) @  Y \n",
    "        except:\n",
    "            res =   np.linalg.pinv(  cali_T(t0).T @ bold_W(t0) @ cali_T(t0) )@ cali_T(t0).T @  bold_W(t0) @  Y \n",
    "        return  res\n",
    "    return lambda t0: minimizers(t0)\n",
    "          \n",
    "def bivariate_local_linear_smoothing_triangular(T,Y,K,h, bias = True):\n",
    "    r = Y.shape[1]; n  = Y.shape[0]\n",
    "    if bias is True:\n",
    "        upper_triangular_pairs = set(\n",
    "            pair for pair in zip(*np.triu_indices(r))).difference(set(zip(np.arange(r),np.arange(r))))\n",
    "    else:\n",
    "        upper_triangular_pairs = set(pair for pair in zip(*np.triu_indices(r)))\n",
    "\n",
    "    utp_T = [(T_i[j], T_i[k]) for (j,k) in upper_triangular_pairs for T_i in T ]\n",
    "    utp_Y = [(Y_i[j], Y_i[k]) for (j,k) in upper_triangular_pairs for Y_i in Y ]\n",
    "\n",
    "    Kh = lambda t: K(t/h)/h\n",
    "\n",
    "    caliK = lambda s,t : np.diag( np.array([ Kh(T_ij-s)*Kh(T_ik-t) for (T_ij, T_ik) in utp_T ]))\n",
    "\n",
    "    caliY = np.array([ Y_ij*Y_ik for (Y_ij, Y_ik) in utp_Y ]) \n",
    "\n",
    "    caliX = lambda s,t : np.array([ np.array([ 1, T_ij - s, T_ik - t ]) for (T_ij, T_ik) in utp_T ]) \n",
    "    \n",
    "    def minimizers(s,t):\n",
    "        _caliX = caliX(s,t); _caliK = caliK(s,t); _caliY = caliY; XtransposeK =  _caliX.T @ _caliK\n",
    "\n",
    "        try:\n",
    "            res = np.linalg.inv(  XtransposeK @ _caliX) @ XtransposeK @ _caliY\n",
    "        except:\n",
    "            res = np.linalg.pinv(  XtransposeK @ _caliX) @ XtransposeK @ _caliY\n",
    "        return  res\n",
    "\n",
    "    return lambda s,t : minimizers(min(s,t), max(s,t))\n",
    "\n",
    "def bivariate_local_linear_smoothing_triangular_exp(T,Y,K,h, bias = True):\n",
    "    \n",
    "    Kh = lambda t: K(t/h)/h\n",
    "    def Khp(p):\n",
    "        return lambda t: (t/h)**p*Kh(t)\n",
    "    \n",
    "    if bias is True:\n",
    "        upper_triangular_pairs = set(\n",
    "            pair for pair in zip(*np.triu_indices(r))).difference(set(zip(np.arange(r),np.arange(r))))\n",
    "    else:\n",
    "        upper_triangular_pairs = set(pair for pair in zip(*np.triu_indices(r)))\n",
    "\n",
    "   \n",
    "    def a0_a1_a2(s,t):\n",
    "        def Ap(p1,p2):\n",
    "            return lambda s,t : np.array([ Khp(p1)(s - T_i[j])*Khp(p2)(t - T_i[k])\n",
    "                                    for (j,k) in upper_triangular_pairs for T_i in T ]).sum()\n",
    "        def Sp(p1,p2):\n",
    "            return lambda s,t : np.array([ Khp(p1)( s - T_i[ j ] )  *  Khp(p2)( t - T_i[ k ]  )\\\n",
    "                                  *( Y_i[j] * Y_i[ k ] )\n",
    "                                    for (j,k) in upper_triangular_pairs for T_i,Y_i in zip(T,Y) ]).sum()\n",
    "\n",
    "        S_00 = Sp(0,0)(s,t)\n",
    "        S_01 = Sp(0,1)(s,t)\n",
    "        S_10 = Sp(1,0)(s,t)\n",
    "        A_00 = Ap(0,0)(s,t)\n",
    "        A_10 = Ap(1,0)(s,t)\n",
    "        A_01 = Ap(0,1)(s,t)\n",
    "        A_11 = Ap(1,1)(s,t)\n",
    "        A_20 = Ap(2,0)(s,t)\n",
    "        A_02 = Ap(0,2)(s,t)\n",
    "        calM_1 =  A_20 * A_02 - A_11**2\n",
    "        calM_2 =  - A_10 * A_02 + A_01*A_11\n",
    "        calM_3 =  A_10 * A_11 - A_01*A_20\n",
    "        determinant = calM_1*A_00 + calM_2*A_10 + calM_3*A_01\n",
    "        a0 = (calM_1*S_00 + calM_2*S_10 + calM_3*S_01) / determinant\n",
    "        calM_1 =  - A_10 * A_02 + A_01*A_11\n",
    "        calM_2 =  A_00 * A_02 - A_01*A_01\n",
    "        calM_3 =  - A_00 * A_11 + A_01*A_01\n",
    "        a1 = (calM_1*S_00 + calM_2*S_10 + calM_3*S_01) / determinant\n",
    "        calM_1 =  A_10 * A_11 - A_01*A_20\n",
    "        calM_2 =  - A_00 * A_11 + A_01*A_10\n",
    "        calM_3 =  A_00 * A_20 - A_10*A_01\n",
    "        a2 = (calM_1*S_00 + calM_2*S_10 + calM_3*S_01) / determinant\n",
    "        return a0, a1, a2\n",
    "    return lambda s,t : a0_a1_a2(min(s,t),max(s,t))\n",
    "\n",
    "def get_mu(m,dm):\n",
    "    return lambda t : dm(t)*(m(t))**(-1)\n",
    "\n",
    "def get_sigma2_DIAGONAL_fromFull(_m, _dm, _G, _D1_G, _D2_G, _mu):\n",
    "    N = _m.size\n",
    "    time_grid = np.linspace(0,1,N)\n",
    "    def res(t):\n",
    "        t_ix = np.argmin((t-time_grid)**2)\n",
    "        return (np.diagonal(_D1_G + _D2_G) - 2*_m*_dm  - 2*_mu*(np.diagonal(_G) - _m**2))[t_ix]   \n",
    "    \n",
    "    return lambda t : res(t)\n",
    "\n",
    "def get_sigma2_DIAGONAL_fromDiag(_m, _dm, _diag_G, _diag_dG, _mu):\n",
    "    N = _m.size\n",
    "    time_grid = np.linspace(0,1,N)\n",
    "    def res(t):\n",
    "        t_ix = np.argmin((t-time_grid)**2)\n",
    "        return (_diag_dG - 2*_m*_dm  - 2*_mu*(_diag_G - _m**2))[t_ix]   \n",
    "\n",
    "    return lambda t : res(t)\n",
    "\n",
    "def get_sigma2_TRIANGULAR(_m, _dm, _G, _D1_G, _b):\n",
    "\n",
    "    N = _m.size\n",
    "    time_grid = np.linspace(0,1,N)\n",
    "    def res(s):\n",
    "#         s_ix = max( 0, np.argmin((s-time_grid)**2)-1)\n",
    "        s_ix = np.argmin((s- 0.021 -time_grid)**2)\n",
    "            \n",
    "        def second(s_ix,t_ix):\n",
    "            return simps(_b[s_ix : t_ix+1]*_D1_G[s_ix, s_ix : t_ix+1], time_grid[s_ix: t_ix+1]  )\n",
    "        \n",
    "        return np.array(\n",
    "                [ _D1_G[s_ix, t_ix ] - _b[s_ix]*_G[s_ix, s_ix ] - second(s_ix,t_ix)\n",
    "                  for t_ix in np.arange(s_ix, time_grid.size-1)     ]).mean()\n",
    "\n",
    "    return lambda s : res(s)\n",
    "\n",
    "\n",
    "def run_exp(n, r, dt, mu, sigma, x0, N, sigma_noise, it=0):\n",
    "\n",
    "    time_grid = np.linspace(0,1,N)\n",
    "    \n",
    "    T,Y = generate_sparse_obs__forScores(n, r, dt, mu, sigma, x0, N, sigma_noise )\n",
    "    \n",
    "    if sigma_noise == 0:\n",
    "        bias = False\n",
    "    else:\n",
    "        bias = True \n",
    "        \n",
    "    # evaluation interval\n",
    "    eval_start_ix = np.argmin((time_grid -.1)**2); eval_end_ix = np.argmin((time_grid -.9)**2)\n",
    "\n",
    "    # bandwith\n",
    "    h_m = 5*(n*r)**(-1/5); h_G = 1.5*(n*r)**(-1/5)\n",
    "    \n",
    "    # smoothing kernel\n",
    "    K = lambda x : 3/4*(1-x**2) if  3/4*(1-x**2) > 0 else 0;      \n",
    "\n",
    "    # -------------------------------------------- compute -------------------------------------------- #\n",
    "    ##### m\n",
    "    _M_ = np.array([univariate_local_linear_smoothing(T, Y, K, h_m)(t) for t in (time_grid)])\n",
    "    MHAT = _M_[:,0]\n",
    "    dMHAT = _M_[:,1]\n",
    "\n",
    "    ##### G\n",
    "    GHAT, D1GHAT, D2GHAT = np.zeros(shape = (N,N)), np.zeros(shape = (N,N)), np.zeros(shape = (N,N))\n",
    "\n",
    "    for i,s in (zip(np.arange(N),time_grid)):\n",
    "        for j,t in zip(np.arange(i,N),time_grid[i:]):\n",
    "            _G_ =  bivariate_local_linear_smoothing_triangular_exp(T,Y,K,h_G,bias)(s,t)\n",
    "            GHAT[i,j] = _G_[0];            GHAT[j,i] = _G_[0]\n",
    "            D1GHAT[i,j] = _G_[1];          D1GHAT[j,i] = _G_[1]\n",
    "            D2GHAT[i,j] = _G_[2];          D2GHAT[j,i] = _G_[2]\n",
    "            \n",
    "    # diag_G_ \n",
    "    _diag_G_ = np.array([univariate_local_linear_smoothing(T, Y**2, K, h_G)(t) for t in time_grid])\n",
    "    diag_GHAT = _diag_G_[:,0]\n",
    "    diag_dGHAT = _diag_G_[:,1]\n",
    "\n",
    "\n",
    "    # -------------------------------------------- evaluate -------------------------------------------- #\n",
    "\n",
    "    MU = np.array([mu(t) for t in time_grid])\n",
    "    SIGMA = np.array([sigma(t) for t in time_grid])\n",
    "\n",
    "    # mu -- drift     \n",
    "    MUHAT = dMHAT/MHAT\n",
    "    rmse_drift = ((((MU-MUHAT)**2)[eval_start_ix:eval_end_ix]).mean())**.5\n",
    "\n",
    "\n",
    "    # sigma -- diffusion \n",
    "    SIGMASQUAREDHAT_tria = np.array([get_sigma2_TRIANGULAR(\n",
    "        MHAT, dMHAT, GHAT, D1GHAT, MUHAT)(t) for t in time_grid])\n",
    "    rmse_tria = ((((SIGMA **2-SIGMASQUAREDHAT_tria)**2)[eval_start_ix:eval_end_ix]).mean())**.5\n",
    "\n",
    "\n",
    "    if sigma_noise == 0:\n",
    "        SIGMASQUAREDHAT_diag_D =  np.array([get_sigma2_DIAGONAL_fromDiag(\n",
    "            MHAT, dMHAT, diag_GHAT, diag_dGHAT, MUHAT)(t) for t in time_grid])\n",
    "        rmse_diag_D = ((((SIGMA**2-SIGMASQUAREDHAT_diag_D)**2)[eval_start_ix:eval_end_ix]).mean())**.5\n",
    "    else:\n",
    "        rmse_diag_D = np.nan\n",
    "        SIGMASQUAREDHAT_diag_D = np.nan\n",
    "\n",
    "    SIGMASQUAREDHAT_diag_T =  np.array([get_sigma2_DIAGONAL_fromFull(\n",
    "        MHAT, dMHAT, GHAT, D1GHAT, D2GHAT, MUHAT)(t) for t in time_grid])\n",
    "    rmse_diag_T = ((((SIGMA**2-SIGMASQUAREDHAT_diag_T)**2)[eval_start_ix:eval_end_ix]).mean())**.5\n",
    "    \n",
    "    return rmse_drift,rmse_tria,rmse_diag_D,rmse_diag_T, MUHAT, SIGMASQUAREDHAT_tria,SIGMASQUAREDHAT_diag_D, SIGMASQUAREDHAT_diag_T\n",
    "\n"
   ]
  },
  {
   "cell_type": "markdown",
   "metadata": {},
   "source": [
    "----"
   ]
  },
  {
   "cell_type": "code",
   "execution_count": 18,
   "metadata": {
    "ExecuteTime": {
     "end_time": "2022-06-08T14:07:16.975753Z",
     "start_time": "2022-06-08T14:07:16.972949Z"
    }
   },
   "outputs": [],
   "source": [
    "x0 =1\n",
    "\n",
    "\n",
    "mu = lambda t : - (1)/(1-t)\n",
    "sigma = lambda t : 1\n",
    "\n",
    "# mu = lambda t : -2\n",
    "# sigma = lambda t : np.sin(np.pi*t)\n",
    "\n",
    "# mu = lambda t : - (1)/(1+t)\n",
    "# sigma = lambda t : (1)/(1+t)\n",
    "\n"
   ]
  },
  {
   "cell_type": "code",
   "execution_count": 19,
   "metadata": {
    "ExecuteTime": {
     "end_time": "2022-06-08T14:07:17.450129Z",
     "start_time": "2022-06-08T14:07:17.252820Z"
    },
    "code_folding": []
   },
   "outputs": [
    {
     "data": {
      "image/png": "[encoded data removed]",
      "text/plain": [
       "<Figure size 864x144 with 2 Axes>"
      ]
     },
     "metadata": {
      "needs_background": "light"
     },
     "output_type": "display_data"
    }
   ],
   "source": [
    "# in\n",
    "n = 500\n",
    "r = 5\n",
    "sigma_noise = 0\n",
    "\n",
    "\n",
    "\n",
    "\n",
    "N = 25;   \n",
    "dt = 1e-3\n",
    "\n",
    "np.seterr(divide='ignore')\n",
    "time_grid = np.linspace(0,1,N)\n",
    "fig, [axL,axR] = plt.subplots(figsize = (12,2), ncols = 2)\n",
    "axL.plot(time_grid, [mu(t) for t in time_grid])\n",
    "axL.set_title('drift -- $mu(t)$')\n",
    "axR.plot(time_grid, [sigma(t) for t in time_grid])\n",
    "axR.set_title('diffusion -- $sigma(t)$')\n",
    "plt.show()\n"
   ]
  },
  {
   "cell_type": "markdown",
   "metadata": {},
   "source": [
    "----"
   ]
  },
  {
   "cell_type": "code",
   "execution_count": 20,
   "metadata": {
    "ExecuteTime": {
     "end_time": "2022-06-08T14:07:18.129225Z",
     "start_time": "2022-06-08T14:07:18.100733Z"
    },
    "code_folding": [
     0
    ]
   },
   "outputs": [],
   "source": [
    "def run(n, r, dt, mu, sigma, x0, N, sigma_noise, it=0):\n",
    "\n",
    "    time_grid = np.linspace(0,1,N)\n",
    "    \n",
    "    T,Y = generate_sparse_obs__forScores(n, r, dt, mu, sigma, x0, N, sigma_noise )\n",
    "    \n",
    "    if sigma_noise == 0:\n",
    "        bias = False\n",
    "    else:\n",
    "        bias = True \n",
    "        \n",
    "    # evaluation interval\n",
    "    eval_start_ix = np.argmin((time_grid -.1)**2); eval_end_ix = np.argmin((time_grid -.9)**2)\n",
    "\n",
    "    \n",
    "\n",
    "    \n",
    "    # smoothing kernel\n",
    "    K = lambda x : 3/4*(1-x**2) if  3/4*(1-x**2) > 0 else 0;      \n",
    "\n",
    "    # -------------------------------------------- compute -------------------------------------------- #\n",
    "    \n",
    "    h_m = 1.5*(n*r)**(-1/5);\n",
    "    h_G = 1.5*(n*r)**(-1/5)\n",
    "#     h_m = 5*(n*r)**(-1/5); h_G = 5*(n*r)**(-1/5)\n",
    "    \n",
    "    ##### m\n",
    "    _M_ = np.array([univariate_local_linear_smoothing(T, Y, K, h_m)(t) for t in (time_grid)])\n",
    "    MHAT = _M_[:,0]\n",
    "    dMHAT = _M_[:,1]\n",
    "\n",
    "    ##### G\n",
    "\n",
    "    if r<11:\n",
    "        GHAT, D1GHAT, D2GHAT = np.zeros(shape = (N,N)), np.zeros(shape = (N,N)), np.zeros(shape = (N,N))\n",
    "        for i,s in tqdm(zip(np.arange(N),time_grid), total =N):\n",
    "            for j,t in zip(np.arange(i,N),time_grid[i:]):\n",
    "                _G_ =  bivariate_local_linear_smoothing_triangular(T,Y,K,h_G,bias)(s,t).reshape(-1)\n",
    "                GHAT[i,j] = _G_[0];            GHAT[j,i] = _G_[0]\n",
    "                D1GHAT[i,j] = _G_[1];          D1GHAT[j,i] = _G_[1]\n",
    "                D2GHAT[i,j] = _G_[2];          D2GHAT[j,i] = _G_[2]\n",
    "\n",
    "    else:\n",
    "        _GHAT, _D1GHAT, _D2GHAT = [],[],[]\n",
    "        for T_i, Y_i in tqdm(zip(T,Y), total = n):\n",
    "            T_i = T_i.reshape(1,-1); Y_i = Y_i.reshape(1,-1)\n",
    "            GHAT_i, D1GHAT_i, D2GHAT_i = np.zeros(shape = (N,N)), np.zeros(shape = (N,N)), np.zeros(shape = (N,N))\n",
    "            for i,s in zip(np.arange(N),time_grid):\n",
    "                for j,t in zip(np.arange(i,N),time_grid[i:]):\n",
    "                    _G_ =  bivariate_local_linear_smoothing_triangular(T_i,Y_i,K,h_G,bias)(s,t).reshape(-1)\n",
    "                    GHAT_i[i,j] = _G_[0]; GHAT_i[j,i] = _G_[0]\n",
    "                    D1GHAT_i[i,j] = _G_[1]; D1GHAT_i[j,i] = _G_[1]\n",
    "                    D2GHAT_i[i,j] = _G_[2]; D2GHAT_i[j,i] = _G_[2]\n",
    "                _GHAT.append(GHAT_i); _D1GHAT.append(D1GHAT_i); _D2GHAT.append(D2GHAT_i)   \n",
    "\n",
    "        GHAT, D1GHAT, D2GHAT = np.zeros(shape = (N,N)), np.zeros(shape = (N,N)), np.zeros(shape = (N,N))\n",
    "        Kh = lambda t: K(t/h_m)/h_m\n",
    "        for i,t_i in enumerate(time_grid):\n",
    "            weights_t_i = [np.array([Kh(t_i-tt) for tt in T[k]]) for k in range(n)]\n",
    "            for j,t_j in enumerate(time_grid):\n",
    "                weights_t_j = [np.array([Kh(t_j-tt) for tt in T[k]]) for k in range(n)]\n",
    "                weights = []\n",
    "                for k in range(n):\n",
    "                    weight_k = sum(weights_t_j[k]*weights_t_i[k])\n",
    "                    weights.append(weight_k)\n",
    "                if sum(weights)==0:\n",
    "                    print('aha!')\n",
    "                GHAT[i,j] = 1/(sum(weights)) * sum([weights[k] * _GHAT[k][i,j] for k in range(n)])\n",
    "                D1GHAT[i,j] = 1/(sum(weights)) * sum([weights[k] * _D1GHAT[k][i,j] for k in range(n)])\n",
    "                D2GHAT[i,j] = 1/(sum(weights)) * sum([weights[k] * _D2GHAT[k][i,j] for k in range(n)])\n",
    "\n",
    "    GDIAGHAT = np.diagonal(GHAT)\n",
    "    D1GDIAGHAT = np.diagonal(D1GHAT)\n",
    "    D2GDIAGHAT = np.diagonal(D2GHAT)\n",
    "\n",
    "    dGDIAGHAT = np.diagonal(D1GHAT + D2GHAT)\n",
    "    GDIAGHAT = np.diagonal(GHAT)\n",
    "\n",
    "\n",
    "    # diag_G_ \n",
    "    _diag_G_ = np.array([univariate_local_linear_smoothing(T, Y**2, K, h_G)(t) for t in time_grid])\n",
    "    diag_GHAT = _diag_G_[:,0]\n",
    "    diag_dGHAT = _diag_G_[:,1]\n",
    "\n",
    "\n",
    "    # -------------------------------------------- evaluate -------------------------------------------- #\n",
    "\n",
    "    MU = np.array([mu(t) for t in time_grid])\n",
    "    SIGMA = np.array([sigma(t) for t in time_grid])\n",
    "                      \n",
    "    # mu -- drift     \n",
    "    MUHAT = dMHAT/MHAT\n",
    "    rmse_drift = ((((MU-MUHAT)**2)[eval_start_ix:eval_end_ix]).mean())**.5\n",
    "\n",
    "\n",
    "    # sigma -- diffusion \n",
    "    SIGMASQUAREDHAT_tria = np.array([get_sigma2_TRIANGULAR(\n",
    "        MHAT, dMHAT, GHAT, D1GHAT, MUHAT)(t) for t in time_grid])\n",
    "    rmse_tria = ((((SIGMA **2-SIGMASQUAREDHAT_tria)**2)[eval_start_ix:eval_end_ix]).mean())**.5\n",
    "\n",
    "\n",
    "    if sigma_noise == 0:\n",
    "        SIGMASQUAREDHAT_diag_D =  np.array([get_sigma2_DIAGONAL_fromDiag(\n",
    "            MHAT, dMHAT, diag_GHAT, diag_dGHAT, MUHAT)(t) for t in time_grid])\n",
    "        rmse_diag_D = ((((SIGMA**2-SIGMASQUAREDHAT_diag_D)**2)[eval_start_ix:eval_end_ix]).mean())**.5\n",
    "    else:\n",
    "        rmse_diag_D = np.nan\n",
    "        SIGMASQUAREDHAT_diag_D = np.nan\n",
    "\n",
    "    SIGMASQUAREDHAT_diag_T =  np.array([get_sigma2_DIAGONAL_fromFull(\n",
    "        MHAT, dMHAT, GHAT, D1GHAT, D2GHAT, MUHAT)(t) for t in time_grid])\n",
    "    rmse_diag_T = ((((SIGMA**2-SIGMASQUAREDHAT_diag_T)**2)[eval_start_ix:eval_end_ix]).mean())**.5\n",
    "    \n",
    "    return rmse_drift,rmse_tria,rmse_diag_D,rmse_diag_T, MUHAT, SIGMASQUAREDHAT_tria,SIGMASQUAREDHAT_diag_D, SIGMASQUAREDHAT_diag_T"
   ]
  },
  {
   "cell_type": "code",
   "execution_count": 21,
   "metadata": {
    "ExecuteTime": {
     "end_time": "2022-06-08T14:07:18.385637Z",
     "start_time": "2022-06-08T14:07:18.382643Z"
    }
   },
   "outputs": [],
   "source": [
    "MU = np.array([mu(t) for t in time_grid])\n",
    "SIGMA = np.array([sigma(t) for t in time_grid])\n"
   ]
  },
  {
   "cell_type": "code",
   "execution_count": 22,
   "metadata": {
    "ExecuteTime": {
     "end_time": "2022-06-08T14:08:08.042725Z",
     "start_time": "2022-06-08T14:07:18.593378Z"
    },
    "code_folding": []
   },
   "outputs": [
    {
     "name": "stderr",
     "output_type": "stream",
     "text": [
      "100%|██████████| 25/25 [00:45<00:00,  1.83s/it]\n"
     ]
    },
    {
     "name": "stdout",
     "output_type": "stream",
     "text": [
      "0:00:49.445596\n"
     ]
    }
   ],
   "source": [
    "start = datetime.now()\n",
    "rmse_drift,rmse_tria,rmse_diag_D,rmse_diag_T, MUHAT, SIGMASQUAREDHAT_tria,SIGMASQUAREDHAT_diag_D \\\n",
    "     , SIGMASQUAREDHAT_diag_T  = run(n, r, dt, mu, sigma, x0, N, sigma_noise, it=0)\n",
    "end = datetime.now()\n",
    "print(end-start)\n"
   ]
  },
  {
   "cell_type": "code",
   "execution_count": 23,
   "metadata": {
    "ExecuteTime": {
     "end_time": "2022-06-08T14:08:08.187477Z",
     "start_time": "2022-06-08T14:08:08.045384Z"
    },
    "code_folding": [
     0
    ]
   },
   "outputs": [
    {
     "data": {
      "image/png": "[encoded data removed]",
      "text/plain": [
       "<Figure size 1152x360 with 1 Axes>"
      ]
     },
     "metadata": {
      "needs_background": "light"
     },
     "output_type": "display_data"
    },
    {
     "name": "stdout",
     "output_type": "stream",
     "text": [
      "RMSE:               0.93\n"
     ]
    }
   ],
   "source": [
    "# mu -- DRIFT \n",
    "\n",
    "MU = np.array([mu(t) for t in time_grid])\n",
    "# fig, [[axUL,axUR],[axDL,axDR]]  = plt.subplots(figsize=(16,5),nrows=2,ncols=2)\n",
    "\n",
    "fig,ax  = plt.subplots(figsize=(16,5))\n",
    "\n",
    "# fig.suptitle('$C^2$', fontsize=24)\n",
    "ax.set_title('$\\mu$', fontsize=24)\n",
    "ax.plot(time_grid[:-1], MUHAT[:-1], label ='estimated', lw=3)\n",
    "ax.plot(time_grid[:-1],( MU)[:-1], label ='true', lw=10, alpha=0.4)\n",
    "ax.legend()\n",
    "# ax.set_ylim(0,2)\n",
    "plt.show()\n",
    "\n",
    "print('RMSE:               {:.2f}'.format(np.abs(MUHAT - MU)[:-1].mean()**.5))\n"
   ]
  },
  {
   "cell_type": "code",
   "execution_count": 25,
   "metadata": {
    "ExecuteTime": {
     "end_time": "2022-06-08T14:08:22.258994Z",
     "start_time": "2022-06-08T14:08:22.121855Z"
    },
    "code_folding": []
   },
   "outputs": [
    {
     "data": {
      "image/png": "[encoded data removed]",
      "text/plain": [
       "<Figure size 1152x360 with 1 Axes>"
      ]
     },
     "metadata": {
      "needs_background": "light"
     },
     "output_type": "display_data"
    },
    {
     "name": "stdout",
     "output_type": "stream",
     "text": [
      "RMSE twice_diagonal:           0.40\n",
      "RMSE diagonal:                 0.45\n",
      "RMSE triangular:               0.27\n"
     ]
    }
   ],
   "source": [
    "# sigma -- DIFFUSION \n",
    "\n",
    "SIGMA = np.array([sigma(t) for t in time_grid])\n",
    "\n",
    "fig,ax  = plt.subplots(figsize=(16,5))\n",
    "\n",
    "# fig.suptitle('$C^2$', fontsize=24)\n",
    "ax.set_title('$\\sigma^2$', fontsize=24)\n",
    "ax.plot(time_grid[:-2], SIGMASQUAREDHAT_diag_D[:-2], label ='twice_diagonal', lw=3)\n",
    "ax.plot(time_grid[:-2], SIGMASQUAREDHAT_diag_T[:-2], label ='diagonal', lw=3)\n",
    "ax.plot(time_grid[:-2],  SIGMASQUAREDHAT_tria[:-2], label ='triangular' , lw=3)\n",
    "\n",
    "# ax.plot(time_grid[:-2],  CHECK[:-2], label ='CHECK' , lw=3)\n",
    "\n",
    "# ax.set_xlim(.15,.85)\n",
    "\n",
    "ax.plot(time_grid[:-2],( SIGMA**2)[:-2], label ='true', lw=10, alpha=0.4)\n",
    "ax.legend()\n",
    "# ax.set_ylim(0,2)\n",
    "plt.show()\n",
    "\n",
    "print('RMSE twice_diagonal:           {:.2f}'.format(np.abs(SIGMASQUAREDHAT_diag_D - SIGMA**2)[:-2].mean()**.5))\n",
    "print('RMSE diagonal:                 {:.2f}'.format(np.abs(SIGMASQUAREDHAT_diag_T - SIGMA**2)[:-2].mean()**.5))\n",
    "print('RMSE triangular:               {:.2f}'.format(np.abs(SIGMASQUAREDHAT_tria - SIGMA**2)[:-2].mean()**.5))\n",
    "# print('CHECK:               {:.2f}'.format(np.abs(CHECK - SIGMA**2).mean()**.5))\n",
    "\n"
   ]
  },
  {
   "cell_type": "markdown",
   "metadata": {},
   "source": [
    "---"
   ]
  },
  {
   "cell_type": "markdown",
   "metadata": {},
   "source": [
    "---"
   ]
  },
  {
   "cell_type": "markdown",
   "metadata": {},
   "source": [
    "---"
   ]
  },
  {
   "cell_type": "markdown",
   "metadata": {},
   "source": [
    "---"
   ]
  },
  {
   "cell_type": "code",
   "execution_count": null,
   "metadata": {
    "ExecuteTime": {
     "start_time": "2022-04-06T13:58:45.729Z"
    },
    "code_folding": [
     0
    ]
   },
   "outputs": [],
   "source": [
    "# CHECK\n",
    "# m = lambda t : x0*(1-t)\n",
    "# dm =  lambda t : -x0\n",
    "# G_diag = lambda t : t-t*2 - m(t)*2\n",
    "# dG_diag =  lambda t : 1-2*t - 2*m(t)*dm(t)\n",
    "# G = lambda s,t : min(s,t) - s*t + m(t)*m(s)\n",
    "# D1_G = lambda s,t : 1-max(s,t) + m(t)*dm(s)\n",
    "# D2_G = lambda s,t : - min(s,t) + m(s)*dm(t)\n",
    "\n",
    "\n",
    "# _M =  np.array([m(t) for t in time_grid])\n",
    "# _dM =  np.array([dm(t) for t in time_grid])\n",
    "\n",
    "# GDIAG = np.array([G(t,t) for t in time_grid]).reshape(-1)\n",
    "# dGDIAG = np.array([dG_diag(t) for t in time_grid]).reshape(-1) \n",
    "# D1GDIAG = np.array([D1_G(t,t) for t in time_grid]).reshape(-1)\n",
    "# D2GDIAG = np.array([D2_G(t,t) for t in time_grid]).reshape(-1)\n",
    "\n",
    "# _G, _D1_G, __ = np.zeros(shape = (N,N)), np.zeros(shape = (N,N)), np.zeros(shape = (N,N))\n",
    "# for i,s in (zip(np.arange(N),time_grid)):\n",
    "#     for j,t in zip(np.arange(i,N),time_grid[i:]):\n",
    "#         _G[i,j] = G(s,t);           _G[j,i] = G(s,t)\n",
    "#         _D1_G[i,j] = D1_G(s,t);     _D1_G[j,i] = D1_G(s,t)\n",
    "\n",
    "                \n",
    "                \n",
    "\n",
    "# check = get_sigma2_TRIANGULAR(_M, _dM, _G, _D1_G, MU)\n",
    "# CHECK = np.array([check(t) for t in time_grid])"
   ]
  }
 ],
 "metadata": {
  "kernelspec": {
   "display_name": "Python 3",
   "language": "python",
   "name": "python3"
  },
  "language_info": {
   "codemirror_mode": {
    "name": "ipython",
    "version": 3
   },
   "file_extension": ".py",
   "mimetype": "text/x-python",
   "name": "python",
   "nbconvert_exporter": "python",
   "pygments_lexer": "ipython3",
   "version": "3.8.3"
  },
  "toc": {
   "base_numbering": 1,
   "nav_menu": {},
   "number_sections": true,
   "sideBar": true,
   "skip_h1_title": false,
   "title_cell": "Table of Contents",
   "title_sidebar": "Contents",
   "toc_cell": false,
   "toc_position": {},
   "toc_section_display": true,
   "toc_window_display": false
  }
 },
 "nbformat": 4,
 "nbformat_minor": 4
}
